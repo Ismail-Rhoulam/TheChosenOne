{
 "cells": [
  {
   "cell_type": "code",
   "execution_count": 2,
   "metadata": {},
   "outputs": [
    {
     "name": "stdout",
     "output_type": "stream",
     "text": [
      "Engine created sucessfully\n",
      "\n",
      "Tables & their columns :\n",
      "\n",
      "        aircrafts_data\n",
      "            ['aircraft_code', 'model', 'range']\n",
      "        airports_data\n",
      "            ['airport_code', 'airport_name', 'city', 'coordinates', 'timezone']\n",
      "        boarding_passes\n",
      "            ['ticket_no', 'flight_id', 'boarding_no', 'seat_no']\n",
      "        bookings\n",
      "            ['book_ref', 'book_date', 'total_amount']\n",
      "        flights\n",
      "            ['flight_id', 'flight_no', 'scheduled_departure', 'scheduled_arrival', 'departure_airport', 'arrival_airport', 'status', 'aircraft_code', 'actual_departure', 'actual_arrival']\n",
      "        seats\n",
      "            ['aircraft_code', 'seat_no', 'fare_conditions']\n",
      "        ticket_flights\n",
      "            ['ticket_no', 'flight_id', 'fare_conditions', 'amount']\n",
      "        tickets\n",
      "            ['ticket_no', 'book_ref', 'passenger_id']\n",
      "\n",
      "No common column in the tables\n",
      "\n"
     ]
    }
   ],
   "source": [
    "from TheChosenOne import DataAssembler\n",
    "\n",
    "data = 'DBS/travel.sqlite'\n",
    "\n",
    "DFS = DataAssembler(data)"
   ]
  }
 ],
 "metadata": {
  "kernelspec": {
   "display_name": "base",
   "language": "python",
   "name": "python3"
  },
  "language_info": {
   "codemirror_mode": {
    "name": "ipython",
    "version": 3
   },
   "file_extension": ".py",
   "mimetype": "text/x-python",
   "name": "python",
   "nbconvert_exporter": "python",
   "pygments_lexer": "ipython3",
   "version": "3.12.2"
  }
 },
 "nbformat": 4,
 "nbformat_minor": 2
}
