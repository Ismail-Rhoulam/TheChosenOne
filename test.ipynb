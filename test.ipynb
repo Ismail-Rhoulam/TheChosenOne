{
 "cells": [
  {
   "cell_type": "code",
   "execution_count": 1,
   "metadata": {},
   "outputs": [],
   "source": [
    "from TheChosenOne import FiscaAuto"
   ]
  },
  {
   "cell_type": "code",
   "execution_count": 2,
   "metadata": {},
   "outputs": [],
   "source": [
    "obj = FiscaAuto.ImpotSurRevenu()"
   ]
  },
  {
   "cell_type": "code",
   "execution_count": 3,
   "metadata": {},
   "outputs": [
    {
     "name": "stdout",
     "output_type": "stream",
     "text": [
      "Salaire de base                 200000 MAD\n",
      "Prime d'ancienneté              20000 MAD\n",
      "Prime de productivité           30000 MAD\n",
      "Prime de panier                 12000 MAD\n",
      "Salaire brut global             262000 MAD\n",
      "Bulletin de paie                Annuel\n",
      "Nombre de personne en charge    7 personnes\n",
      "\n"
     ]
    }
   ],
   "source": [
    "print(obj)"
   ]
  },
  {
   "cell_type": "code",
   "execution_count": 4,
   "metadata": {},
   "outputs": [
    {
     "name": "stdout",
     "output_type": "stream",
     "text": [
      "Total des exoneration                12000 MAD\n",
      "Salaire brut imposable               250000 MAD\n",
      "Deduction                            43875.6 MAD\n",
      "Salaire net imposable                206124.4 MAD\n",
      "Impot sur revenu brut                53927.27 MAD\n",
      "Imputation charge de famille         2160 MAD\n",
      "Impot sur revenu net                 51767.27 MAD\n",
      "Salaire net a payer annuellement     201357.13 MAD\n",
      "Salaire net a payer mensuellement    16779.76 MAD\n",
      "\n"
     ]
    }
   ],
   "source": [
    "print(obj.resultats())"
   ]
  }
 ],
 "metadata": {
  "kernelspec": {
   "display_name": "base",
   "language": "python",
   "name": "python3"
  },
  "language_info": {
   "codemirror_mode": {
    "name": "ipython",
    "version": 3
   },
   "file_extension": ".py",
   "mimetype": "text/x-python",
   "name": "python",
   "nbconvert_exporter": "python",
   "pygments_lexer": "ipython3",
   "version": "3.12.2"
  }
 },
 "nbformat": 4,
 "nbformat_minor": 2
}
